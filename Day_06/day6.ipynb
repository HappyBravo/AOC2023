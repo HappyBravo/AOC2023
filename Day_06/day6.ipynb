{
 "cells": [
  {
   "cell_type": "code",
   "execution_count": 61,
   "metadata": {},
   "outputs": [],
   "source": [
    "input_data_file = \"./input_day-6.txt\"\n",
    "# input_data_file = \"./test_input_day-6.txt\"\n"
   ]
  },
  {
   "cell_type": "code",
   "execution_count": 62,
   "metadata": {},
   "outputs": [],
   "source": [
    "input_data = []\n",
    "with open(input_data_file) as f:\n",
    "    input_data = [line.strip() for line in f.readlines()]"
   ]
  },
  {
   "cell_type": "markdown",
   "metadata": {},
   "source": [
    "# PART 1"
   ]
  },
  {
   "cell_type": "code",
   "execution_count": 63,
   "metadata": {},
   "outputs": [],
   "source": [
    "def extract(_line):\n",
    "    dataa = []\n",
    "    _, dataa = _line.split(':')\n",
    "    dataa = list(map(int, dataa.split()))\n",
    "    return dataa\n"
   ]
  },
  {
   "cell_type": "code",
   "execution_count": 64,
   "metadata": {},
   "outputs": [],
   "source": [
    "time = []\n",
    "dist = []\n",
    "\n",
    "for line in input_data:\n",
    "    if not time: \n",
    "        time = extract(line)\n",
    "        continue\n",
    "    if not dist:\n",
    "        dist = extract(line)\n"
   ]
  },
  {
   "cell_type": "code",
   "execution_count": 65,
   "metadata": {},
   "outputs": [
    {
     "data": {
      "text/plain": [
       "([60, 94, 78, 82], [475, 2138, 1015, 1650])"
      ]
     },
     "execution_count": 65,
     "metadata": {},
     "output_type": "execute_result"
    }
   ],
   "source": [
    "time, dist"
   ]
  },
  {
   "cell_type": "code",
   "execution_count": 66,
   "metadata": {},
   "outputs": [],
   "source": [
    "win_counts = []\n",
    "prod = 1\n",
    "for i in range(len(time)):\n",
    "    vel = 0\n",
    "    d = dist[i]\n",
    "    total_time = time[i]\n",
    "    time_left = 0\n",
    "    countt = 0\n",
    "    for t in range(1, time[i]+1):\n",
    "        vel = t\n",
    "        time_left = total_time - t\n",
    "        distance_traveled = vel*time_left\n",
    "        if distance_traveled > d:\n",
    "            countt+=1\n",
    "    win_counts.append(countt)\n",
    "    prod*=countt\n",
    "\n"
   ]
  },
  {
   "cell_type": "code",
   "execution_count": 67,
   "metadata": {},
   "outputs": [
    {
     "data": {
      "text/plain": [
       "345015"
      ]
     },
     "execution_count": 67,
     "metadata": {},
     "output_type": "execute_result"
    }
   ],
   "source": [
    "prod"
   ]
  },
  {
   "cell_type": "code",
   "execution_count": null,
   "metadata": {},
   "outputs": [],
   "source": []
  },
  {
   "cell_type": "markdown",
   "metadata": {},
   "source": [
    "# PART 2\n"
   ]
  },
  {
   "cell_type": "code",
   "execution_count": 68,
   "metadata": {},
   "outputs": [],
   "source": [
    "time = [int(\"\".join(map(str, time)))]\n",
    "dist = [int(\"\".join(map(str, dist)))]"
   ]
  },
  {
   "cell_type": "code",
   "execution_count": 69,
   "metadata": {},
   "outputs": [
    {
     "data": {
      "text/plain": [
       "([60947882], [475213810151650])"
      ]
     },
     "execution_count": 69,
     "metadata": {},
     "output_type": "execute_result"
    }
   ],
   "source": [
    "time, dist"
   ]
  },
  {
   "cell_type": "code",
   "execution_count": 70,
   "metadata": {},
   "outputs": [],
   "source": [
    "win_counts = []\n",
    "prod = 1\n",
    "for i in range(len(time)):\n",
    "    vel = 0\n",
    "    d = dist[i]\n",
    "    total_time = time[i]\n",
    "    time_left = 0\n",
    "    countt = 0\n",
    "    for t in range(1, time[i]+1):\n",
    "        vel = t\n",
    "        time_left = total_time - t\n",
    "        distance_traveled = vel*time_left\n",
    "        if distance_traveled > d:\n",
    "            countt+=1\n",
    "    win_counts.append(countt)\n",
    "    prod*=countt\n",
    "\n"
   ]
  },
  {
   "cell_type": "code",
   "execution_count": 71,
   "metadata": {},
   "outputs": [
    {
     "data": {
      "text/plain": [
       "[42588603]"
      ]
     },
     "execution_count": 71,
     "metadata": {},
     "output_type": "execute_result"
    }
   ],
   "source": [
    "win_counts"
   ]
  },
  {
   "cell_type": "code",
   "execution_count": null,
   "metadata": {},
   "outputs": [],
   "source": []
  }
 ],
 "metadata": {
  "kernelspec": {
   "display_name": "globalenv",
   "language": "python",
   "name": "python3"
  },
  "language_info": {
   "codemirror_mode": {
    "name": "ipython",
    "version": 3
   },
   "file_extension": ".py",
   "mimetype": "text/x-python",
   "name": "python",
   "nbconvert_exporter": "python",
   "pygments_lexer": "ipython3",
   "version": "3.12.0"
  }
 },
 "nbformat": 4,
 "nbformat_minor": 2
}
