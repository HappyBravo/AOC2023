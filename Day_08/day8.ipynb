{
 "cells": [
  {
   "cell_type": "code",
   "execution_count": 21,
   "metadata": {},
   "outputs": [],
   "source": [
    "input_data_file = \"./input_day-8.txt\"\n",
    "# input_data_file = \"./test_input_day-8.txt\"\n",
    "# input_data_file = \"./test_input2_day-8.txt\"\n",
    "# input_data_file = \"./test_input3_day-8.txt\"\n"
   ]
  },
  {
   "cell_type": "code",
   "execution_count": 22,
   "metadata": {},
   "outputs": [],
   "source": [
    "input_data = []\n",
    "with open(input_data_file) as f:\n",
    "    input_data = [line.strip() for line in f.readlines()]"
   ]
  },
  {
   "cell_type": "markdown",
   "metadata": {},
   "source": [
    "# PART 1"
   ]
  },
  {
   "cell_type": "code",
   "execution_count": 3,
   "metadata": {},
   "outputs": [],
   "source": [
    "directions = {\n",
    "    'L' : 0,\n",
    "    \"R\" : 1   \n",
    "}"
   ]
  },
  {
   "cell_type": "code",
   "execution_count": 23,
   "metadata": {},
   "outputs": [],
   "source": [
    "commands = \"\"\n",
    "mapp = {}\n",
    "for line in input_data:\n",
    "    if not commands:\n",
    "        line = line.strip()\n",
    "        commands = line\n",
    "        continue\n",
    "    if len(line) > 1:\n",
    "        [mid, l_r] = line.split(\"=\")\n",
    "        mid = mid.strip()\n",
    "        [l, r] = l_r.split(\",\")\n",
    "        l = l.strip()[1:]\n",
    "        r = r.strip()[:-1]\n",
    "\n",
    "        mapp[mid] = [l, r]\n",
    "\n"
   ]
  },
  {
   "cell_type": "code",
   "execution_count": 5,
   "metadata": {},
   "outputs": [
    {
     "data": {
      "text/plain": [
       "('LR',\n",
       " {'11A': ['11B', 'XXX'],\n",
       "  '11B': ['XXX', '11Z'],\n",
       "  '11Z': ['11B', 'XXX'],\n",
       "  '22A': ['22B', 'XXX'],\n",
       "  '22B': ['22C', '22C'],\n",
       "  '22C': ['22Z', '22Z'],\n",
       "  '22Z': ['22B', '22B'],\n",
       "  'XXX': ['XXX', 'XXX']})"
      ]
     },
     "execution_count": 5,
     "metadata": {},
     "output_type": "execute_result"
    }
   ],
   "source": [
    "commands, mapp"
   ]
  },
  {
   "cell_type": "code",
   "execution_count": 6,
   "metadata": {},
   "outputs": [],
   "source": [
    "def commands_to_num(commands):\n",
    "    numeric_commands = \"\"\n",
    "    numeric_commands = \"\".join(map(str, [directions[ch] for ch in commands]))\n",
    "    return numeric_commands\n",
    "        "
   ]
  },
  {
   "cell_type": "code",
   "execution_count": 25,
   "metadata": {},
   "outputs": [],
   "source": [
    "start = \"AAA\"\n",
    "end = \"ZZZ\""
   ]
  },
  {
   "cell_type": "code",
   "execution_count": 26,
   "metadata": {},
   "outputs": [
    {
     "name": "stdout",
     "output_type": "stream",
     "text": [
      "13771\n"
     ]
    }
   ],
   "source": [
    "reachedEnd = False\n",
    "pointReached = start\n",
    "countt = 0\n",
    "\n",
    "while not reachedEnd:\n",
    "    # print(pointReached, end=\" -> \")\n",
    "    numCommands = commands_to_num(commands) \n",
    "    len_commands = len(numCommands)\n",
    "    \n",
    "    pointReached = mapp[pointReached][int(numCommands[countt%len_commands])]\n",
    "    if pointReached == end:\n",
    "        reachedEnd = True\n",
    "        # break\n",
    "    countt +=1\n",
    "    # input()\n",
    "\n",
    "print(countt)"
   ]
  },
  {
   "cell_type": "markdown",
   "metadata": {},
   "source": [
    "# PART 2\n"
   ]
  },
  {
   "cell_type": "code",
   "execution_count": 24,
   "metadata": {},
   "outputs": [],
   "source": [
    "ends_with_A = []\n",
    "ends_with_Z = []\n",
    "_ = [ends_with_A.append(point) if point[-1]=='A' else ends_with_Z.append(point) if point[-1] == \"Z\" else point for point in mapp.keys()]"
   ]
  },
  {
   "cell_type": "code",
   "execution_count": 29,
   "metadata": {},
   "outputs": [
    {
     "data": {
      "text/plain": [
       "(['GSA', 'DLA', 'MLA', 'MQA', 'AAA', 'JGA'],\n",
       " ['ZZZ', 'PXZ', 'TFZ', 'QLZ', 'XJZ', 'DXZ'])"
      ]
     },
     "execution_count": 29,
     "metadata": {},
     "output_type": "execute_result"
    }
   ],
   "source": [
    "ends_with_A, ends_with_Z"
   ]
  },
  {
   "cell_type": "code",
   "execution_count": 26,
   "metadata": {},
   "outputs": [
    {
     "name": "stdout",
     "output_type": "stream",
     "text": [
      "19631\n",
      "17287\n",
      "12599\n",
      "23147\n",
      "13771\n",
      "20803\n",
      "[('GSA', 19631), ('DLA', 17287), ('MLA', 12599), ('MQA', 23147), ('AAA', 13771), ('JGA', 20803)]\n"
     ]
    }
   ],
   "source": [
    "points_counts = []\n",
    "for starting_point in ends_with_A:\n",
    "    reachedEnd = False\n",
    "    pointReached = starting_point\n",
    "    countt = 0\n",
    "\n",
    "    while not reachedEnd:\n",
    "        # print(pointReached, end=\" -> \")\n",
    "        numCommands = commands_to_num(commands) \n",
    "        len_commands = len(numCommands)\n",
    "        \n",
    "        pointReached = mapp[pointReached][int(numCommands[countt%len_commands])]\n",
    "        if pointReached in ends_with_Z:\n",
    "            reachedEnd = True\n",
    "            # break\n",
    "        countt +=1\n",
    "        # input()\n",
    "\n",
    "    print(countt)\n",
    "    points_counts.append((starting_point, countt))\n",
    "print(points_counts)\n",
    "counts = [i[1] for i in points_counts]"
   ]
  },
  {
   "cell_type": "code",
   "execution_count": 27,
   "metadata": {},
   "outputs": [
    {
     "name": "stdout",
     "output_type": "stream",
     "text": [
      "[19631, 17287, 12599, 23147, 13771, 20803]\n"
     ]
    }
   ],
   "source": [
    "print(counts)"
   ]
  },
  {
   "cell_type": "code",
   "execution_count": 17,
   "metadata": {},
   "outputs": [],
   "source": [
    "from math import gcd\n",
    "from functools import reduce\n",
    "\n",
    "def lcm(numbers):\n",
    "    lcm = 1\n",
    "    for i in numbers:\n",
    "        lcm = lcm*i//gcd(lcm, i)\n",
    "    return lcm\n"
   ]
  },
  {
   "cell_type": "code",
   "execution_count": 28,
   "metadata": {},
   "outputs": [
    {
     "data": {
      "text/plain": [
       "13129439557681"
      ]
     },
     "execution_count": 28,
     "metadata": {},
     "output_type": "execute_result"
    }
   ],
   "source": [
    "lcm(counts)"
   ]
  },
  {
   "cell_type": "code",
   "execution_count": null,
   "metadata": {},
   "outputs": [],
   "source": []
  }
 ],
 "metadata": {
  "kernelspec": {
   "display_name": "globalenv",
   "language": "python",
   "name": "python3"
  },
  "language_info": {
   "codemirror_mode": {
    "name": "ipython",
    "version": 3
   },
   "file_extension": ".py",
   "mimetype": "text/x-python",
   "name": "python",
   "nbconvert_exporter": "python",
   "pygments_lexer": "ipython3",
   "version": "3.12.0"
  }
 },
 "nbformat": 4,
 "nbformat_minor": 2
}
